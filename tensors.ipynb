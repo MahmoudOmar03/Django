{
  "nbformat": 4,
  "nbformat_minor": 0,
  "metadata": {
    "colab": {
      "provenance": [],
      "authorship_tag": "ABX9TyOcdNMqKC4utzULdChcrwnV",
      "include_colab_link": true
    },
    "kernelspec": {
      "name": "python3",
      "display_name": "Python 3"
    },
    "language_info": {
      "name": "python"
    }
  },
  "cells": [
    {
      "cell_type": "markdown",
      "metadata": {
        "id": "view-in-github",
        "colab_type": "text"
      },
      "source": [
        "<a href=\"https://colab.research.google.com/github/MahmoudOmar03/Django/blob/main/tensors.ipynb\" target=\"_parent\"><img src=\"https://colab.research.google.com/assets/colab-badge.svg\" alt=\"Open In Colab\"/></a>"
      ]
    },
    {
      "cell_type": "code",
      "execution_count": 1,
      "metadata": {
        "id": "1ntu5JPHL4FF"
      },
      "outputs": [],
      "source": [
        "import torch\n",
        "import numpy as np"
      ]
    },
    {
      "cell_type": "code",
      "source": [
        "tensors_3d=torch.randn(3,4,2)"
      ],
      "metadata": {
        "id": "vNnXj0_YQicd"
      },
      "execution_count": 4,
      "outputs": []
    },
    {
      "cell_type": "code",
      "source": [
        "tensors_3d"
      ],
      "metadata": {
        "colab": {
          "base_uri": "https://localhost:8080/"
        },
        "id": "0P5ihL8ZQo5N",
        "outputId": "c34f56aa-8310-48b1-dcaf-76bd837ddc20"
      },
      "execution_count": 5,
      "outputs": [
        {
          "output_type": "execute_result",
          "data": {
            "text/plain": [
              "tensor([[[-0.5149, -0.5127],\n",
              "         [ 0.8164, -2.1553],\n",
              "         [ 1.6420, -1.3165],\n",
              "         [ 0.8403, -0.1161]],\n",
              "\n",
              "        [[ 0.7680, -2.1771],\n",
              "         [ 0.3173,  0.6740],\n",
              "         [ 1.2115,  2.1945],\n",
              "         [ 1.0499, -0.5590]],\n",
              "\n",
              "        [[-0.3851,  1.1871],\n",
              "         [-1.0733, -0.6563],\n",
              "         [-1.9513,  1.2107],\n",
              "         [-2.1004,  0.1729]]])"
            ]
          },
          "metadata": {},
          "execution_count": 5
        }
      ]
    }
  ]
}